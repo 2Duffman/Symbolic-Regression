{
 "cells": [
  {
   "cell_type": "code",
   "execution_count": 1,
   "metadata": {},
   "outputs": [
    {
     "ename": "ModuleNotFoundError",
     "evalue": "No module named 'tensorflow'",
     "output_type": "error",
     "traceback": [
      "\u001b[1;31m---------------------------------------------------------------------------\u001b[0m",
      "\u001b[1;31mModuleNotFoundError\u001b[0m                       Traceback (most recent call last)",
      "Cell \u001b[1;32mIn[1], line 11\u001b[0m\n\u001b[0;32m      9\u001b[0m \u001b[38;5;28;01mimport\u001b[39;00m \u001b[38;5;21;01mnumpy\u001b[39;00m \u001b[38;5;28;01mas\u001b[39;00m \u001b[38;5;21;01mnp\u001b[39;00m\n\u001b[0;32m     10\u001b[0m \u001b[38;5;28;01mimport\u001b[39;00m \u001b[38;5;21;01mmatplotlib\u001b[39;00m\u001b[38;5;21;01m.\u001b[39;00m\u001b[38;5;21;01mpyplot\u001b[39;00m \u001b[38;5;28;01mas\u001b[39;00m \u001b[38;5;21;01mplt\u001b[39;00m\n\u001b[1;32m---> 11\u001b[0m \u001b[38;5;28;01mimport\u001b[39;00m \u001b[38;5;21;01mtensorflow\u001b[39;00m \u001b[38;5;28;01mas\u001b[39;00m \u001b[38;5;21;01mtf\u001b[39;00m\n\u001b[0;32m     13\u001b[0m \u001b[38;5;66;03m#Set up MLFlow via DAGSHub\u001b[39;00m\n\u001b[0;32m     14\u001b[0m os\u001b[38;5;241m.\u001b[39menviron[\u001b[38;5;124m'\u001b[39m\u001b[38;5;124mMLFLOW_TRACKING_USERNAME\u001b[39m\u001b[38;5;124m'\u001b[39m] \u001b[38;5;241m=\u001b[39m \u001b[38;5;124m'\u001b[39m\u001b[38;5;124m2Duffman\u001b[39m\u001b[38;5;124m'\u001b[39m\n",
      "\u001b[1;31mModuleNotFoundError\u001b[0m: No module named 'tensorflow'"
     ]
    }
   ],
   "source": [
    "if \"google.colab\" in str(get_ipython()):\n",
    "    # uninstall preinstalled packages from Colab to avoid conflicts\n",
    "    !pip install mlflow\n",
    "\n",
    "\n",
    "import mlflow\n",
    "import os\n",
    "import pandas as pd\n",
    "import numpy as np\n",
    "import matplotlib.pyplot as plt\n",
    "import tensorflow as tf\n",
    "\n",
    "#Set up MLFlow via DAGSHub\n",
    "os.environ['MLFLOW_TRACKING_USERNAME'] = '2Duffman'\n",
    "os.environ['MLFLOW_TRACKING_PASSWORD'] = 'f6651f529b37bdd5aa99d6a092e7d48359374423'\n",
    "os.environ['MLFLOW_TRACKING_PROJECTNAME'] = 'Symbolic-Regression'\n",
    "mlflow.set_tracking_uri(f'https://dagshub.com/' + os.environ['MLFLOW_TRACKING_USERNAME']\n",
    "                        + '/' + os.environ['MLFLOW_TRACKING_PROJECTNAME'] + '.mlflow')"
   ]
  },
  {
   "cell_type": "code",
   "execution_count": null,
   "metadata": {},
   "outputs": [],
   "source": [
    "# Read the data\n",
    "if \"google.colab\" in str(get_ipython()):\n",
    "  data = pd.read_csv('drive/MyDrive/distance_8.csv')\n",
    "else:\n",
    "  data = pd.read_csv(\"distance_8.csv\")\n",
    "\n",
    "# Define the target column\n",
    "target = \"saldo_final_target\"\n",
    "\n",
    "# Function to check if time is present in the string\n",
    "def check_time(s):\n",
    "    first_colon = s.find(':')\n",
    "    if first_colon == -1:\n",
    "        return s + ' 00:00:00'\n",
    "    else:\n",
    "        return s\n",
    "\n",
    "# Apply the function to the 'delivery_start' column\n",
    "data['delivery_start'] = data['delivery_start'].apply(check_time)\n",
    "\n",
    "# Convert 'delivery_start' to datetime\n",
    "data['delivery_start'] = pd.to_datetime(data['delivery_start'], format='%Y-%m-%d %H:%M:%S')\n",
    "\n",
    "# Create 'year' column\n",
    "data['year'] = data['delivery_start'].dt.year\n",
    "\n",
    "# Create 'day' column with day of the year\n",
    "data['day'] = data['delivery_start'].dt.dayofyear\n",
    "\n",
    "# Create 'time' column with minutes since midnight\n",
    "data['time'] = data['delivery_start'].dt.hour * 60 + data['delivery_start'].dt.minute\n",
    "\n",
    "# Create cyclic representations of 'day' and 'time'\n",
    "data['day_sin'] = np.sin(2 * np.pi * data['day'] / 365)\n",
    "data['day_cos'] = np.cos(2 * np.pi * data['day'] / 365)\n",
    "data['time_sin'] = np.sin(2 * np.pi * data['time'] / 1440)\n",
    "data['time_cos'] = np.cos(2 * np.pi * data['time'] / 1440)\n",
    "\n",
    "# Drop 'day' and 'time' columns\n",
    "df = data.drop(['day', 'time', 'floor_day_target', 'delivery_start'], axis=1)"
   ]
  },
  {
   "cell_type": "code",
   "execution_count": null,
   "metadata": {},
   "outputs": [],
   "source": [
    "#split into train, validation and test\n",
    "column_indices = {name: i for i, name in enumerate(df.columns)}\n",
    "\n",
    "n = len(df)\n",
    "train_df = df[0:int(n*0.7)]\n",
    "val_df = df[int(n*0.7):int(n*0.9)]\n",
    "test_df = df[int(n*0.9):]\n",
    "\n",
    "num_features = df.shape[1]\n",
    "\n",
    "#normalize the data\n",
    "train_mean = train_df.mean()\n",
    "train_std = train_df.std()\n",
    "\n",
    "train_df = (train_df - train_mean) / train_std\n",
    "val_df = (val_df - train_mean) / train_std\n",
    "test_df = (test_df - train_mean) / train_std\n",
    "test_df.head()"
   ]
  },
  {
   "cell_type": "code",
   "execution_count": null,
   "metadata": {},
   "outputs": [],
   "source": [
    "df_std = (df - train_mean) / train_std\n",
    "df_std = df_std.melt(var_name='Column', value_name='Normalized')\n",
    "plt.figure(figsize=(12, 6))\n",
    "ax = sns.violinplot(x='Column', y='Normalized', data=df_std)\n",
    "_ = ax.set_xticklabels(df.keys(), rotation=90)\n"
   ]
  }
 ],
 "metadata": {
  "kernelspec": {
   "display_name": "symreg",
   "language": "python",
   "name": "python3"
  },
  "language_info": {
   "codemirror_mode": {
    "name": "ipython",
    "version": 3
   },
   "file_extension": ".py",
   "mimetype": "text/x-python",
   "name": "python",
   "nbconvert_exporter": "python",
   "pygments_lexer": "ipython3",
   "version": "3.11.7"
  }
 },
 "nbformat": 4,
 "nbformat_minor": 2
}
