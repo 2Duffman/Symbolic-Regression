{
 "cells": [
  {
   "cell_type": "code",
   "execution_count": null,
   "metadata": {},
   "outputs": [],
   "source": [
    "if \"google.colab\" in str(get_ipython()):\n",
    "    # uninstall preinstalled packages from Colab to avoid conflicts\n",
    "    !pip install mlflow\n",
    "\n",
    "\n",
    "import mlflow\n",
    "import os\n",
    "import pandas as pd\n",
    "import numpy as np\n",
    "import matplotlib.pyplot as plt\n",
    "import tensorflow as tf\n",
    "\n",
    "#Set up MLFlow via DAGSHub\n",
    "os.environ['MLFLOW_TRACKING_USERNAME'] = '2Duffman'\n",
    "os.environ['MLFLOW_TRACKING_PASSWORD'] = 'f6651f529b37bdd5aa99d6a092e7d48359374423'\n",
    "os.environ['MLFLOW_TRACKING_PROJECTNAME'] = 'Symbolic-Regression'\n",
    "mlflow.set_tracking_uri(f'https://dagshub.com/' + os.environ['MLFLOW_TRACKING_USERNAME']\n",
    "                        + '/' + os.environ['MLFLOW_TRACKING_PROJECTNAME'] + '.mlflow')"
   ]
  },
  {
   "cell_type": "code",
   "execution_count": null,
   "metadata": {},
   "outputs": [],
   "source": [
    "# Read the data\n",
    "if \"google.colab\" in str(get_ipython()):\n",
    "  data = pd.read_csv('drive/MyDrive/distance_8.csv')\n",
    "else:\n",
    "  data = pd.read_csv(\"distance_8.csv\")\n",
    "\n",
    "# Define the target column\n",
    "target = \"saldo_final_target\"\n",
    "\n",
    "# Function to check if time is present in the string\n",
    "def check_time(s):\n",
    "    first_colon = s.find(':')\n",
    "    if first_colon == -1:\n",
    "        return s + ' 00:00:00'\n",
    "    else:\n",
    "        return s\n",
    "\n",
    "# Apply the function to the 'delivery_start' column\n",
    "data['delivery_start'] = data['delivery_start'].apply(check_time)\n",
    "\n",
    "# Convert 'delivery_start' to datetime\n",
    "data['delivery_start'] = pd.to_datetime(data['delivery_start'], format='%Y-%m-%d %H:%M:%S')\n",
    "\n",
    "# Create 'year' column\n",
    "data['year'] = data['delivery_start'].dt.year\n",
    "\n",
    "# Create 'day' column with day of the year\n",
    "data['day'] = data['delivery_start'].dt.dayofyear\n",
    "\n",
    "# Create 'time' column with minutes since midnight\n",
    "data['time'] = data['delivery_start'].dt.hour * 60 + data['delivery_start'].dt.minute\n",
    "\n",
    "# Create cyclic representations of 'day' and 'time'\n",
    "data['day_sin'] = np.sin(2 * np.pi * data['day'] / 365)\n",
    "data['day_cos'] = np.cos(2 * np.pi * data['day'] / 365)\n",
    "data['time_sin'] = np.sin(2 * np.pi * data['time'] / 1440)\n",
    "data['time_cos'] = np.cos(2 * np.pi * data['time'] / 1440)\n",
    "\n",
    "# Drop 'day' and 'time' columns\n",
    "df = data.drop(['day', 'time', 'floor_day_target', 'delivery_start'], axis=1)"
   ]
  },
  {
   "cell_type": "code",
   "execution_count": null,
   "metadata": {},
   "outputs": [],
   "source": [
    "#split into train, validation and test\n",
    "column_indices = {name: i for i, name in enumerate(df.columns)}\n",
    "\n",
    "n = len(df)\n",
    "train_df = df[0:int(n*0.7)]\n",
    "val_df = df[int(n*0.7):int(n*0.9)]\n",
    "test_df = df[int(n*0.9):]\n",
    "\n",
    "num_features = df.shape[1]\n",
    "\n",
    "#normalize the data\n",
    "train_mean = train_df.mean()\n",
    "train_std = train_df.std()\n",
    "\n",
    "train_df = (train_df - train_mean) / train_std\n",
    "val_df = (val_df - train_mean) / train_std\n",
    "test_df = (test_df - train_mean) / train_std\n"
   ]
  },
  {
   "cell_type": "code",
   "execution_count": null,
   "metadata": {},
   "outputs": [],
   "source": [
    "df_std = (df - train_mean) / train_std\n",
    "df_std = df_std.melt(var_name='Column', value_name='Normalized')\n",
    "plt.figure(figsize=(12, 6))\n",
    "ax = sns.violinplot(x='Column', y='Normalized', data=df_std)\n",
    "_ = ax.set_xticklabels(df.keys(), rotation=90)\n"
   ]
  }
 ],
 "metadata": {
  "language_info": {
   "name": "python"
  }
 },
 "nbformat": 4,
 "nbformat_minor": 2
}
