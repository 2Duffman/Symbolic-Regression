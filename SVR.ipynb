{
 "cells": [
  {
   "cell_type": "code",
   "execution_count": 1,
   "metadata": {},
   "outputs": [],
   "source": [
    "if \"google.colab\" in str(get_ipython()):\n",
    "    !pip install mlflow\n",
    "\n",
    "import mlflow\n",
    "import os\n",
    "import pandas as pd\n",
    "import numpy as np\n",
    "import matplotlib.pyplot as plt\n",
    "from sklearn.model_selection import train_test_split\n",
    "from sklearn.preprocessing import StandardScaler\n",
    "from sklearn.pipeline import make_pipeline\n",
    "from sklearn.svm import SVR\n",
    "from sklearn.metrics import mean_squared_error, r2_score\n",
    "\n",
    "\n",
    "#Set up MLFlow via DAGSHub\n",
    "os.environ['MLFLOW_TRACKING_USERNAME'] = '2Duffman'\n",
    "os.environ['MLFLOW_TRACKING_PASSWORD'] = 'f6651f529b37bdd5aa99d6a092e7d48359374423'\n",
    "os.environ['MLFLOW_TRACKING_PROJECTNAME'] = 'Symbolic-Regression'\n",
    "mlflow.set_tracking_uri(f'https://dagshub.com/' + os.environ['MLFLOW_TRACKING_USERNAME']\n",
    "                        + '/' + os.environ['MLFLOW_TRACKING_PROJECTNAME'] + '.mlflow')"
   ]
  },
  {
   "cell_type": "code",
   "execution_count": 4,
   "metadata": {},
   "outputs": [],
   "source": [
    "# Read the data\n",
    "if \"google.colab\" in str(get_ipython()):\n",
    "  data = pd.read_csv('drive/MyDrive/distance_8.csv')\n",
    "else:\n",
    "  data = pd.read_csv(\"distance_8.csv\")\n",
    "\n",
    "# Define the target column\n",
    "target = \"saldo_final_target\"\n",
    "\n",
    "# Function to check if time is present in the string\n",
    "def check_time(s):\n",
    "    first_colon = s.find(':')\n",
    "    if first_colon == -1:\n",
    "        return s + ' 00:00:00'\n",
    "    else:\n",
    "        return s\n",
    "\n",
    "# Apply the function to the 'delivery_start' column\n",
    "data['delivery_start'] = data['delivery_start'].apply(check_time)\n",
    "\n",
    "# Convert 'delivery_start' to datetime\n",
    "data['delivery_start'] = pd.to_datetime(data['delivery_start'], format='%Y-%m-%d %H:%M:%S')\n",
    "\n",
    "# Create 'year' column\n",
    "data['year'] = data['delivery_start'].dt.year\n",
    "\n",
    "# Create 'day' column with day of the year\n",
    "data['day'] = data['delivery_start'].dt.dayofyear\n",
    "\n",
    "# Create 'time' column with minutes since midnight\n",
    "data['time'] = data['delivery_start'].dt.hour * 60 + data['delivery_start'].dt.minute\n",
    "\n",
    "# Create cyclic representations of 'day' and 'time'\n",
    "data['day_sin'] = np.sin(2 * np.pi * data['day'] / 365)\n",
    "data['day_cos'] = np.cos(2 * np.pi * data['day'] / 365)\n",
    "data['time_sin'] = np.sin(2 * np.pi * data['time'] / 1440)\n",
    "data['time_cos'] = np.cos(2 * np.pi * data['time'] / 1440)\n",
    "\n",
    "# Drop 'day' and 'time' columns\n",
    "data = data.drop(['day', 'time', 'delivery_start', 'floor_day_target'], axis=1)\n",
    "\n",
    "# Separate the features and the target variable\n",
    "X = data.drop(target, axis=1)\n",
    "Y = data[target]\n",
    "\n",
    "#Split the data\n",
    "X_train, X_test, Y_train, Y_test = train_test_split(X, Y, test_size=0.2, shuffle=False)"
   ]
  },
  {
   "cell_type": "code",
   "execution_count": 6,
   "metadata": {},
   "outputs": [],
   "source": [
    "# Standardizing the features\n",
    "sc_X = StandardScaler()\n",
    "sc_Y = StandardScaler()\n",
    "X_train = sc_X.fit_transform(X_train)\n",
    "X_test = sc_X.transform(X_test)\n",
    "Y_train = sc_Y.fit_transform(Y_train.values.reshape(-1, 1))"
   ]
  },
  {
   "cell_type": "code",
   "execution_count": 7,
   "metadata": {},
   "outputs": [],
   "source": [
    "model = SVR(kernel='rbf')"
   ]
  },
  {
   "cell_type": "code",
   "execution_count": 8,
   "metadata": {},
   "outputs": [],
   "source": [
    "model.fit(X_train, Y_train.ravel())"
   ]
  },
  {
   "cell_type": "code",
   "execution_count": null,
   "metadata": {},
   "outputs": [],
   "source": [
    "# Predicting the results\n",
    "Y_pred = model.predict(X_test)\n",
    "Y_pred = sc_Y.inverse_transform(Y_pred)\n",
    "\n",
    "# Evaluating the model\n",
    "rmse = mse(Y_test, Y_pred, squared=False)\n",
    "r2 = r2_score(Y_test, Y_pred)\n",
    "\n",
    "print(f'MSE: {mse}')\n",
    "print(f'R2 Score: {r2}')"
   ]
  }
 ],
 "metadata": {
  "kernelspec": {
   "display_name": "symreg",
   "language": "python",
   "name": "python3"
  },
  "language_info": {
   "codemirror_mode": {
    "name": "ipython",
    "version": 3
   },
   "file_extension": ".py",
   "mimetype": "text/x-python",
   "name": "python",
   "nbconvert_exporter": "python",
   "pygments_lexer": "ipython3",
   "version": "3.11.7"
  }
 },
 "nbformat": 4,
 "nbformat_minor": 2
}
