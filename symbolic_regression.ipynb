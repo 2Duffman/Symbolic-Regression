{
 "cells": [
  {
   "cell_type": "code",
   "execution_count": 4,
   "metadata": {},
   "outputs": [
    {
     "name": "stderr",
     "output_type": "stream",
     "text": [
      "[WARNING: feyn._qlattice] - Deprecation: The reset() function is deprecated. Instantiating a new feyn.QLattice() now achieves the same result.\n"
     ]
    },
    {
     "ename": "MemoryError",
     "evalue": "Unable to allocate 60.8 GiB for an array with shape (8164984555,) and data type int64",
     "output_type": "error",
     "traceback": [
      "\u001b[1;31m---------------------------------------------------------------------------\u001b[0m",
      "\u001b[1;31mMemoryError\u001b[0m                               Traceback (most recent call last)",
      "Cell \u001b[1;32mIn[4], line 24\u001b[0m\n\u001b[0;32m     22\u001b[0m \u001b[38;5;28;01mfor\u001b[39;00m _ \u001b[38;5;129;01min\u001b[39;00m \u001b[38;5;28mrange\u001b[39m(\u001b[38;5;241m10\u001b[39m):\n\u001b[0;32m     23\u001b[0m     ql\u001b[38;5;241m.\u001b[39mreset()\n\u001b[1;32m---> 24\u001b[0m     models \u001b[38;5;241m=\u001b[39m \u001b[43mql\u001b[49m\u001b[38;5;241;43m.\u001b[39;49m\u001b[43mauto_run\u001b[49m\u001b[43m(\u001b[49m\u001b[43mtrain\u001b[49m\u001b[43m,\u001b[49m\u001b[43m \u001b[49m\u001b[43moutput_name\u001b[49m\u001b[38;5;241;43m=\u001b[39;49m\u001b[43mtarget\u001b[49m\u001b[43m,\u001b[49m\u001b[43m \u001b[49m\u001b[43mkind\u001b[49m\u001b[38;5;241;43m=\u001b[39;49m\u001b[38;5;124;43m\"\u001b[39;49m\u001b[38;5;124;43mregression\u001b[39;49m\u001b[38;5;124;43m\"\u001b[39;49m\u001b[43m,\u001b[49m\u001b[43m \u001b[49m\u001b[43mcriterion\u001b[49m\u001b[38;5;241;43m=\u001b[39;49m\u001b[38;5;124;43m\"\u001b[39;49m\u001b[38;5;124;43mbic\u001b[39;49m\u001b[38;5;124;43m\"\u001b[39;49m\u001b[43m,\u001b[49m\u001b[43m \u001b[49m\u001b[43mstypes\u001b[49m\u001b[38;5;241;43m=\u001b[39;49m\u001b[43mstypes\u001b[49m\u001b[43m)\u001b[49m\n\u001b[0;32m     25\u001b[0m     best_model \u001b[38;5;241m=\u001b[39m models[\u001b[38;5;241m0\u001b[39m]\n\u001b[0;32m     26\u001b[0m     \u001b[38;5;28mprint\u001b[39m(best_model)\n",
      "File \u001b[1;32mc:\\Users\\morit\\miniconda3\\envs\\symreg\\Lib\\site-packages\\feyn\\_typings.py:54\u001b[0m, in \u001b[0;36mcheck_types.<locals>.inner.<locals>.wrapper\u001b[1;34m(*args, **kwargs)\u001b[0m\n\u001b[0;32m     51\u001b[0m     \u001b[38;5;28;01mif\u001b[39;00m verbose:\n\u001b[0;32m     52\u001b[0m         \u001b[38;5;28mprint\u001b[39m(\u001b[38;5;124m\"\u001b[39m\u001b[38;5;124m---\u001b[39m\u001b[38;5;124m\"\u001b[39m)\n\u001b[1;32m---> 54\u001b[0m \u001b[38;5;28;01mreturn\u001b[39;00m \u001b[43mfunc\u001b[49m\u001b[43m(\u001b[49m\u001b[38;5;241;43m*\u001b[39;49m\u001b[43margs\u001b[49m\u001b[43m,\u001b[49m\u001b[43m \u001b[49m\u001b[38;5;241;43m*\u001b[39;49m\u001b[38;5;241;43m*\u001b[39;49m\u001b[43mkwargs\u001b[49m\u001b[43m)\u001b[49m\n",
      "File \u001b[1;32mc:\\Users\\morit\\miniconda3\\envs\\symreg\\Lib\\site-packages\\feyn\\_qlattice.py:227\u001b[0m, in \u001b[0;36mQLattice.auto_run\u001b[1;34m(self, data, output_name, kind, stypes, n_epochs, threads, max_complexity, query_string, loss_function, criterion, sample_weights, function_names, starting_models)\u001b[0m\n\u001b[0;32m    224\u001b[0m     models \u001b[38;5;241m=\u001b[39m [m\u001b[38;5;241m.\u001b[39mcopy() \u001b[38;5;28;01mfor\u001b[39;00m m \u001b[38;5;129;01min\u001b[39;00m starting_models]\n\u001b[0;32m    225\u001b[0m m_count \u001b[38;5;241m=\u001b[39m \u001b[38;5;28mlen\u001b[39m(models)\n\u001b[1;32m--> 227\u001b[0m priors \u001b[38;5;241m=\u001b[39m \u001b[43mfeyn\u001b[49m\u001b[38;5;241;43m.\u001b[39;49m\u001b[43mtools\u001b[49m\u001b[38;5;241;43m.\u001b[39;49m\u001b[43mestimate_priors\u001b[49m\u001b[43m(\u001b[49m\u001b[43mdata\u001b[49m\u001b[43m,\u001b[49m\u001b[43m \u001b[49m\u001b[43moutput_name\u001b[49m\u001b[43m)\u001b[49m\n\u001b[0;32m    228\u001b[0m \u001b[38;5;28mself\u001b[39m\u001b[38;5;241m.\u001b[39mupdate_priors(priors)\n\u001b[0;32m    230\u001b[0m \u001b[38;5;28;01mtry\u001b[39;00m:\n",
      "File \u001b[1;32mc:\\Users\\morit\\miniconda3\\envs\\symreg\\Lib\\site-packages\\feyn\\tools\\_data.py:264\u001b[0m, in \u001b[0;36mestimate_priors\u001b[1;34m(df, output_name, floor)\u001b[0m\n\u001b[0;32m    247\u001b[0m \u001b[38;5;250m\u001b[39m\u001b[38;5;124;03m\"\"\"Computes prior probabilities for each input based on mutual information.\u001b[39;00m\n\u001b[0;32m    248\u001b[0m \u001b[38;5;124;03mThe prior probability of an input denotes the initial belief of its importance in predicting the output before fitting a model.\u001b[39;00m\n\u001b[0;32m    249\u001b[0m \u001b[38;5;124;03mThe higher the prior probability the more important the corresponding feature is believed to be.\u001b[39;00m\n\u001b[1;32m   (...)\u001b[0m\n\u001b[0;32m    259\u001b[0m \u001b[38;5;124;03m    dict -- a dictionary of feature names and their computed priors.\u001b[39;00m\n\u001b[0;32m    260\u001b[0m \u001b[38;5;124;03m\"\"\"\u001b[39;00m\n\u001b[0;32m    262\u001b[0m inputs \u001b[38;5;241m=\u001b[39m df\u001b[38;5;241m.\u001b[39mcolumns[df\u001b[38;5;241m.\u001b[39mcolumns \u001b[38;5;241m!=\u001b[39m output_name]\u001b[38;5;241m.\u001b[39mvalues\n\u001b[1;32m--> 264\u001b[0m res \u001b[38;5;241m=\u001b[39m \u001b[43mfeyn\u001b[49m\u001b[38;5;241;43m.\u001b[39;49m\u001b[43mmetrics\u001b[49m\u001b[38;5;241;43m.\u001b[39;49m\u001b[43mcalculate_mi_for_output\u001b[49m\u001b[43m(\u001b[49m\u001b[43mdf\u001b[49m\u001b[43m,\u001b[49m\u001b[43m \u001b[49m\u001b[43moutput_name\u001b[49m\u001b[43m)\u001b[49m\n\u001b[0;32m    265\u001b[0m res \u001b[38;5;241m=\u001b[39m np\u001b[38;5;241m.\u001b[39marray(res)\n\u001b[0;32m    267\u001b[0m sorted_index \u001b[38;5;241m=\u001b[39m (\u001b[38;5;241m-\u001b[39mres)\u001b[38;5;241m.\u001b[39margsort()  \u001b[38;5;66;03m# note: (-res).argsort() is just reverse argsort\u001b[39;00m\n",
      "File \u001b[1;32mc:\\Users\\morit\\miniconda3\\envs\\symreg\\Lib\\site-packages\\feyn\\metrics\\_mutual.py:84\u001b[0m, in \u001b[0;36mcalculate_mi_for_output\u001b[1;34m(df, output_name)\u001b[0m\n\u001b[0;32m     80\u001b[0m output_mi, output_bins \u001b[38;5;241m=\u001b[39m _mi_inputs(df[output_name])\n\u001b[0;32m     82\u001b[0m inputs \u001b[38;5;241m=\u001b[39m df\u001b[38;5;241m.\u001b[39mcolumns[df\u001b[38;5;241m.\u001b[39mcolumns \u001b[38;5;241m!=\u001b[39m output_name]\u001b[38;5;241m.\u001b[39mvalues\n\u001b[1;32m---> 84\u001b[0m \u001b[38;5;28;01mreturn\u001b[39;00m \u001b[43mdf\u001b[49m\u001b[43m[\u001b[49m\u001b[43minputs\u001b[49m\u001b[43m]\u001b[49m\u001b[38;5;241;43m.\u001b[39;49m\u001b[43mapply\u001b[49m\u001b[43m(\u001b[49m\u001b[38;5;28;43;01mlambda\u001b[39;49;00m\u001b[43m \u001b[49m\u001b[43mcol\u001b[49m\u001b[43m:\u001b[49m\u001b[43m \u001b[49m\u001b[43m_calculate_mi_for_output\u001b[49m\u001b[43m(\u001b[49m\u001b[43mcol\u001b[49m\u001b[43m,\u001b[49m\u001b[43m \u001b[49m\u001b[43moutput_mi\u001b[49m\u001b[43m,\u001b[49m\u001b[43m \u001b[49m\u001b[43moutput_bins\u001b[49m\u001b[43m)\u001b[49m\u001b[43m,\u001b[49m\u001b[43m \u001b[49m\u001b[43maxis\u001b[49m\u001b[38;5;241;43m=\u001b[39;49m\u001b[38;5;241;43m0\u001b[39;49m\u001b[43m)\u001b[49m\n",
      "File \u001b[1;32mc:\\Users\\morit\\miniconda3\\envs\\symreg\\Lib\\site-packages\\pandas\\core\\frame.py:10347\u001b[0m, in \u001b[0;36mDataFrame.apply\u001b[1;34m(self, func, axis, raw, result_type, args, by_row, engine, engine_kwargs, **kwargs)\u001b[0m\n\u001b[0;32m  10333\u001b[0m \u001b[38;5;28;01mfrom\u001b[39;00m \u001b[38;5;21;01mpandas\u001b[39;00m\u001b[38;5;21;01m.\u001b[39;00m\u001b[38;5;21;01mcore\u001b[39;00m\u001b[38;5;21;01m.\u001b[39;00m\u001b[38;5;21;01mapply\u001b[39;00m \u001b[38;5;28;01mimport\u001b[39;00m frame_apply\n\u001b[0;32m  10335\u001b[0m op \u001b[38;5;241m=\u001b[39m frame_apply(\n\u001b[0;32m  10336\u001b[0m     \u001b[38;5;28mself\u001b[39m,\n\u001b[0;32m  10337\u001b[0m     func\u001b[38;5;241m=\u001b[39mfunc,\n\u001b[1;32m   (...)\u001b[0m\n\u001b[0;32m  10345\u001b[0m     kwargs\u001b[38;5;241m=\u001b[39mkwargs,\n\u001b[0;32m  10346\u001b[0m )\n\u001b[1;32m> 10347\u001b[0m \u001b[38;5;28;01mreturn\u001b[39;00m \u001b[43mop\u001b[49m\u001b[38;5;241;43m.\u001b[39;49m\u001b[43mapply\u001b[49m\u001b[43m(\u001b[49m\u001b[43m)\u001b[49m\u001b[38;5;241m.\u001b[39m__finalize__(\u001b[38;5;28mself\u001b[39m, method\u001b[38;5;241m=\u001b[39m\u001b[38;5;124m\"\u001b[39m\u001b[38;5;124mapply\u001b[39m\u001b[38;5;124m\"\u001b[39m)\n",
      "File \u001b[1;32mc:\\Users\\morit\\miniconda3\\envs\\symreg\\Lib\\site-packages\\pandas\\core\\apply.py:916\u001b[0m, in \u001b[0;36mFrameApply.apply\u001b[1;34m(self)\u001b[0m\n\u001b[0;32m    913\u001b[0m \u001b[38;5;28;01melif\u001b[39;00m \u001b[38;5;28mself\u001b[39m\u001b[38;5;241m.\u001b[39mraw:\n\u001b[0;32m    914\u001b[0m     \u001b[38;5;28;01mreturn\u001b[39;00m \u001b[38;5;28mself\u001b[39m\u001b[38;5;241m.\u001b[39mapply_raw(engine\u001b[38;5;241m=\u001b[39m\u001b[38;5;28mself\u001b[39m\u001b[38;5;241m.\u001b[39mengine, engine_kwargs\u001b[38;5;241m=\u001b[39m\u001b[38;5;28mself\u001b[39m\u001b[38;5;241m.\u001b[39mengine_kwargs)\n\u001b[1;32m--> 916\u001b[0m \u001b[38;5;28;01mreturn\u001b[39;00m \u001b[38;5;28;43mself\u001b[39;49m\u001b[38;5;241;43m.\u001b[39;49m\u001b[43mapply_standard\u001b[49m\u001b[43m(\u001b[49m\u001b[43m)\u001b[49m\n",
      "File \u001b[1;32mc:\\Users\\morit\\miniconda3\\envs\\symreg\\Lib\\site-packages\\pandas\\core\\apply.py:1063\u001b[0m, in \u001b[0;36mFrameApply.apply_standard\u001b[1;34m(self)\u001b[0m\n\u001b[0;32m   1061\u001b[0m \u001b[38;5;28;01mdef\u001b[39;00m \u001b[38;5;21mapply_standard\u001b[39m(\u001b[38;5;28mself\u001b[39m):\n\u001b[0;32m   1062\u001b[0m     \u001b[38;5;28;01mif\u001b[39;00m \u001b[38;5;28mself\u001b[39m\u001b[38;5;241m.\u001b[39mengine \u001b[38;5;241m==\u001b[39m \u001b[38;5;124m\"\u001b[39m\u001b[38;5;124mpython\u001b[39m\u001b[38;5;124m\"\u001b[39m:\n\u001b[1;32m-> 1063\u001b[0m         results, res_index \u001b[38;5;241m=\u001b[39m \u001b[38;5;28;43mself\u001b[39;49m\u001b[38;5;241;43m.\u001b[39;49m\u001b[43mapply_series_generator\u001b[49m\u001b[43m(\u001b[49m\u001b[43m)\u001b[49m\n\u001b[0;32m   1064\u001b[0m     \u001b[38;5;28;01melse\u001b[39;00m:\n\u001b[0;32m   1065\u001b[0m         results, res_index \u001b[38;5;241m=\u001b[39m \u001b[38;5;28mself\u001b[39m\u001b[38;5;241m.\u001b[39mapply_series_numba()\n",
      "File \u001b[1;32mc:\\Users\\morit\\miniconda3\\envs\\symreg\\Lib\\site-packages\\pandas\\core\\apply.py:1081\u001b[0m, in \u001b[0;36mFrameApply.apply_series_generator\u001b[1;34m(self)\u001b[0m\n\u001b[0;32m   1078\u001b[0m \u001b[38;5;28;01mwith\u001b[39;00m option_context(\u001b[38;5;124m\"\u001b[39m\u001b[38;5;124mmode.chained_assignment\u001b[39m\u001b[38;5;124m\"\u001b[39m, \u001b[38;5;28;01mNone\u001b[39;00m):\n\u001b[0;32m   1079\u001b[0m     \u001b[38;5;28;01mfor\u001b[39;00m i, v \u001b[38;5;129;01min\u001b[39;00m \u001b[38;5;28menumerate\u001b[39m(series_gen):\n\u001b[0;32m   1080\u001b[0m         \u001b[38;5;66;03m# ignore SettingWithCopy here in case the user mutates\u001b[39;00m\n\u001b[1;32m-> 1081\u001b[0m         results[i] \u001b[38;5;241m=\u001b[39m \u001b[38;5;28;43mself\u001b[39;49m\u001b[38;5;241;43m.\u001b[39;49m\u001b[43mfunc\u001b[49m\u001b[43m(\u001b[49m\u001b[43mv\u001b[49m\u001b[43m,\u001b[49m\u001b[43m \u001b[49m\u001b[38;5;241;43m*\u001b[39;49m\u001b[38;5;28;43mself\u001b[39;49m\u001b[38;5;241;43m.\u001b[39;49m\u001b[43margs\u001b[49m\u001b[43m,\u001b[49m\u001b[43m \u001b[49m\u001b[38;5;241;43m*\u001b[39;49m\u001b[38;5;241;43m*\u001b[39;49m\u001b[38;5;28;43mself\u001b[39;49m\u001b[38;5;241;43m.\u001b[39;49m\u001b[43mkwargs\u001b[49m\u001b[43m)\u001b[49m\n\u001b[0;32m   1082\u001b[0m         \u001b[38;5;28;01mif\u001b[39;00m \u001b[38;5;28misinstance\u001b[39m(results[i], ABCSeries):\n\u001b[0;32m   1083\u001b[0m             \u001b[38;5;66;03m# If we have a view on v, we need to make a copy because\u001b[39;00m\n\u001b[0;32m   1084\u001b[0m             \u001b[38;5;66;03m#  series_generator will swap out the underlying data\u001b[39;00m\n\u001b[0;32m   1085\u001b[0m             results[i] \u001b[38;5;241m=\u001b[39m results[i]\u001b[38;5;241m.\u001b[39mcopy(deep\u001b[38;5;241m=\u001b[39m\u001b[38;5;28;01mFalse\u001b[39;00m)\n",
      "File \u001b[1;32mc:\\Users\\morit\\miniconda3\\envs\\symreg\\Lib\\site-packages\\feyn\\metrics\\_mutual.py:84\u001b[0m, in \u001b[0;36mcalculate_mi_for_output.<locals>.<lambda>\u001b[1;34m(col)\u001b[0m\n\u001b[0;32m     80\u001b[0m output_mi, output_bins \u001b[38;5;241m=\u001b[39m _mi_inputs(df[output_name])\n\u001b[0;32m     82\u001b[0m inputs \u001b[38;5;241m=\u001b[39m df\u001b[38;5;241m.\u001b[39mcolumns[df\u001b[38;5;241m.\u001b[39mcolumns \u001b[38;5;241m!=\u001b[39m output_name]\u001b[38;5;241m.\u001b[39mvalues\n\u001b[1;32m---> 84\u001b[0m \u001b[38;5;28;01mreturn\u001b[39;00m df[inputs]\u001b[38;5;241m.\u001b[39mapply(\u001b[38;5;28;01mlambda\u001b[39;00m col: \u001b[43m_calculate_mi_for_output\u001b[49m\u001b[43m(\u001b[49m\u001b[43mcol\u001b[49m\u001b[43m,\u001b[49m\u001b[43m \u001b[49m\u001b[43moutput_mi\u001b[49m\u001b[43m,\u001b[49m\u001b[43m \u001b[49m\u001b[43moutput_bins\u001b[49m\u001b[43m)\u001b[49m, axis\u001b[38;5;241m=\u001b[39m\u001b[38;5;241m0\u001b[39m)\n",
      "File \u001b[1;32mc:\\Users\\morit\\miniconda3\\envs\\symreg\\Lib\\site-packages\\feyn\\metrics\\_mutual.py:58\u001b[0m, in \u001b[0;36m_calculate_mi_for_output\u001b[1;34m(samples, output_mi, output_bins)\u001b[0m\n\u001b[0;32m     55\u001b[0m \u001b[38;5;28;01mdef\u001b[39;00m \u001b[38;5;21m_calculate_mi_for_output\u001b[39m(samples: Iterable, output_mi: Iterable, output_bins: Iterable) \u001b[38;5;241m-\u001b[39m\u001b[38;5;241m>\u001b[39m np\u001b[38;5;241m.\u001b[39marray:\n\u001b[0;32m     56\u001b[0m     sample_rv , sample_bins \u001b[38;5;241m=\u001b[39m _mi_inputs(samples)\n\u001b[1;32m---> 58\u001b[0m     joint_dist \u001b[38;5;241m=\u001b[39m _normalize_hist(\u001b[43mnp\u001b[49m\u001b[38;5;241;43m.\u001b[39;49m\u001b[43mhistogramdd\u001b[49m\u001b[43m(\u001b[49m\u001b[43m[\u001b[49m\u001b[43msample_rv\u001b[49m\u001b[43m,\u001b[49m\u001b[43m \u001b[49m\u001b[43moutput_mi\u001b[49m\u001b[43m]\u001b[49m\u001b[43m,\u001b[49m\u001b[43m \u001b[49m\u001b[43mbins\u001b[49m\u001b[38;5;241;43m=\u001b[39;49m\u001b[43m[\u001b[49m\u001b[43msample_bins\u001b[49m\u001b[43m,\u001b[49m\u001b[43m \u001b[49m\u001b[43moutput_bins\u001b[49m\u001b[43m]\u001b[49m\u001b[43m)\u001b[49m[\u001b[38;5;241m0\u001b[39m])\n\u001b[0;32m     60\u001b[0m     marginals \u001b[38;5;241m=\u001b[39m [_integrate_to(joint_dist, i) \u001b[38;5;28;01mfor\u001b[39;00m i \u001b[38;5;129;01min\u001b[39;00m \u001b[38;5;28mrange\u001b[39m(joint_dist\u001b[38;5;241m.\u001b[39mndim)]\n\u001b[0;32m     61\u001b[0m     outer_dist \u001b[38;5;241m=\u001b[39m _normalize_hist(_nd_outer(\u001b[38;5;241m*\u001b[39mmarginals))\n",
      "File \u001b[1;32mc:\\Users\\morit\\miniconda3\\envs\\symreg\\Lib\\site-packages\\numpy\\lib\\histograms.py:1048\u001b[0m, in \u001b[0;36mhistogramdd\u001b[1;34m(sample, bins, range, density, weights)\u001b[0m\n\u001b[0;32m   1044\u001b[0m xy \u001b[38;5;241m=\u001b[39m np\u001b[38;5;241m.\u001b[39mravel_multi_index(Ncount, nbin)\n\u001b[0;32m   1046\u001b[0m \u001b[38;5;66;03m# Compute the number of repetitions in xy and assign it to the\u001b[39;00m\n\u001b[0;32m   1047\u001b[0m \u001b[38;5;66;03m# flattened histmat.\u001b[39;00m\n\u001b[1;32m-> 1048\u001b[0m hist \u001b[38;5;241m=\u001b[39m \u001b[43mnp\u001b[49m\u001b[38;5;241;43m.\u001b[39;49m\u001b[43mbincount\u001b[49m\u001b[43m(\u001b[49m\u001b[43mxy\u001b[49m\u001b[43m,\u001b[49m\u001b[43m \u001b[49m\u001b[43mweights\u001b[49m\u001b[43m,\u001b[49m\u001b[43m \u001b[49m\u001b[43mminlength\u001b[49m\u001b[38;5;241;43m=\u001b[39;49m\u001b[43mnbin\u001b[49m\u001b[38;5;241;43m.\u001b[39;49m\u001b[43mprod\u001b[49m\u001b[43m(\u001b[49m\u001b[43m)\u001b[49m\u001b[43m)\u001b[49m\n\u001b[0;32m   1050\u001b[0m \u001b[38;5;66;03m# Shape into a proper matrix\u001b[39;00m\n\u001b[0;32m   1051\u001b[0m hist \u001b[38;5;241m=\u001b[39m hist\u001b[38;5;241m.\u001b[39mreshape(nbin)\n",
      "\u001b[1;31mMemoryError\u001b[0m: Unable to allocate 60.8 GiB for an array with shape (8164984555,) and data type int64"
     ]
    }
   ],
   "source": [
    "# Import necessary libraries\n",
    "import pandas as pd\n",
    "from sklearn.model_selection import train_test_split\n",
    "import feyn\n",
    "\n",
    "# Read the data\n",
    "data = pd.read_csv(\"distance_8.csv\")\n",
    "\n",
    "# Define the target column\n",
    "target = \"saldo_final_target\"\n",
    "\n",
    "#filter categorical columns\n",
    "stypes = {column: 'c' for column in data.columns if data[column].dtype == 'object'}\n",
    "\n",
    "# Split the data into train and test sets\n",
    "train, test = train_test_split(data, test_size=0.2, random_state=42)\n",
    "\n",
    "# Initialize a QLattice\n",
    "ql = feyn.QLattice()\n",
    "\n",
    "# Perform symbolic regression\n",
    "for _ in range(10):\n",
    "    ql.reset()\n",
    "    models = ql.auto_run(train, output_name=target, kind=\"regression\", criterion=\"bic\", stypes=stypes)\n",
    "    best_model = models[0]\n",
    "    print(best_model)\n",
    "\n",
    "# Print the performance of the best model on the test set\n",
    "print(best_model.score(test))"
   ]
  }
 ],
 "metadata": {
  "kernelspec": {
   "display_name": "symreg",
   "language": "python",
   "name": "python3"
  },
  "language_info": {
   "codemirror_mode": {
    "name": "ipython",
    "version": 3
   },
   "file_extension": ".py",
   "mimetype": "text/x-python",
   "name": "python",
   "nbconvert_exporter": "python",
   "pygments_lexer": "ipython3",
   "version": "3.11.7"
  }
 },
 "nbformat": 4,
 "nbformat_minor": 2
}
